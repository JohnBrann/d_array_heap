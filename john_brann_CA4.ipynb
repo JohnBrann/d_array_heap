{
 "cells": [
  {
   "cell_type": "markdown",
   "metadata": {},
   "source": []
  },
  {
   "cell_type": "code",
   "execution_count": 2,
   "metadata": {},
   "outputs": [
    {
     "name": "stdout",
     "output_type": "stream",
     "text": [
      "Heap: [40, 25, 5, 30, 20, 10, 15]\n",
      "Sorted Array: [40, 30, 25, 20, 15, 10, 5]\n"
     ]
    }
   ],
   "source": [
    "class DaryHeap:\n",
    "    def __init__(self, d):\n",
    "        self.d = d  # Number of children per node\n",
    "        self.heap = []  # Internal array representation of the heap\n",
    "\n",
    "    def parent(self, i):\n",
    "        return (i - 1) // self.d if i > 0 else None\n",
    "\n",
    "    def children(self, i):\n",
    "        return [self.d * i + j + 1 for j in range(self.d)]\n",
    "\n",
    "    def heapify(self, i):\n",
    "        largest = i\n",
    "        n = len(self.heap)\n",
    "\n",
    "        for child in self.children(i):\n",
    "            if child < n and self.heap[child] > self.heap[largest]:\n",
    "                largest = child\n",
    "\n",
    "        if largest != i:\n",
    "            self.heap[i], self.heap[largest] = self.heap[largest], self.heap[i]  # Swap\n",
    "            self.heapify(largest)\n",
    "\n",
    "    def buildHeap(self, array):\n",
    "        self.heap = array\n",
    "        n = len(self.heap)\n",
    "        for i in range(n // self.d - 1, -1, -1):\n",
    "            self.heapify(i)\n",
    "\n",
    "    def heapSort(self):\n",
    "        self.buildHeap(self.heap)\n",
    "        sorted_array = []\n",
    "        while self.heap:\n",
    "            # The maximum element is at the root of the heap\n",
    "            sorted_array.append(self.heap[0])\n",
    "            # Move the last element to the root and heapify\n",
    "            self.heap[0] = self.heap[-1]\n",
    "            self.heap.pop()\n",
    "            self.heapify(0)\n",
    "        return sorted_array\n",
    "\n",
    "# Example usage\n",
    "if __name__ == \"__main__\":\n",
    "    d = 3  # Example for a ternary heap\n",
    "    heap = DaryHeap(d)\n",
    "    array = [10, 20, 5, 30, 40, 25, 15]\n",
    "    heap.buildHeap(array)\n",
    "    print(\"Heap:\", heap.heap)\n",
    "    sorted_array = heap.heapSort()\n",
    "    print(\"Sorted Array:\", sorted_array)\n"
   ]
  }
 ],
 "metadata": {
  "kernelspec": {
   "display_name": "base",
   "language": "python",
   "name": "python3"
  },
  "language_info": {
   "codemirror_mode": {
    "name": "ipython",
    "version": 3
   },
   "file_extension": ".py",
   "mimetype": "text/x-python",
   "name": "python",
   "nbconvert_exporter": "python",
   "pygments_lexer": "ipython3",
   "version": "3.12.4"
  }
 },
 "nbformat": 4,
 "nbformat_minor": 2
}
