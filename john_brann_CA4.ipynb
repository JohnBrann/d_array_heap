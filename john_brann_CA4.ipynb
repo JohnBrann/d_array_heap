{
 "cells": [
  {
   "cell_type": "markdown",
   "metadata": {},
   "source": [
    "Implementing a d-Array Heap"
   ]
  },
  {
   "cell_type": "code",
   "execution_count": 17,
   "metadata": {},
   "outputs": [
    {
     "name": "stdout",
     "output_type": "stream",
     "text": [
      "Heap: [90, 25, 11, 30, 40, 20, 15, 12, 14, 5, 10, 10]\n",
      "Sorted Array: [90, 40, 30, 25, 20, 15, 14, 12, 11, 10, 10, 5]\n"
     ]
    }
   ],
   "source": [
    "class DaryHeap:\n",
    "    def __init__(self, d):\n",
    "        self.d = d  # Number of children per node\n",
    "        self.heap = [] \n",
    "\n",
    "    # Returns the index of the parent of the node in the array \n",
    "    def parent(self, i):\n",
    "        if i > 0:\n",
    "            return (i - 1) // self.d \n",
    "        else:\n",
    "            return None  # Returns None for the root node\n",
    "\n",
    "    # Returns list of indices of the node in the array\n",
    "    def children(self, i):\n",
    "        child_indices = []  \n",
    "        for j in range(self.d): \n",
    "            child_index = self.d * i + j + 1  # Calculate the index of each child\n",
    "            child_indices.append(child_index)  # Append child index to the list\n",
    "\n",
    "        return child_indices \n",
    "\n",
    "    # Make sure the tree has heap property (subtree)\n",
    "    def heapify(self, i):\n",
    "        largest = i \n",
    "        heap_size = len(self.heap)  # Get the current size of the heap\n",
    "\n",
    "        # Find the largest node\n",
    "        for child in self.children(i):\n",
    "            if child < heap_size and self.heap[child] > self.heap[largest]: \n",
    "                largest = child  # Update largest node if the child is larger, if we add something that is larger then its parent\n",
    "\n",
    "        # If the largest node is not the current node,heapify again\n",
    "        if largest != i:\n",
    "            self.heap[i], self.heap[largest] = self.heap[largest], self.heap[i]  # Swap\n",
    "            self.heapify(largest) \n",
    "\n",
    "    def buildHeap(self, array):\n",
    "        self.heap = array  \n",
    "        n = len(self.heap)  \n",
    "        # Start heapifying from the last non-leaf node down to the root\n",
    "        for i in range(n // self.d - 1, -1, -1):\n",
    "            self.heapify(i)  \n",
    "    # Heap Sort\n",
    "    def heapSort(self):\n",
    "        self.buildHeap(self.heap)  \n",
    "        sorted_array = []  \n",
    "        while self.heap:  # While there are elements in the heap\n",
    "            sorted_array.append(self.heap[0])  \n",
    "            self.heap[0] = self.heap[-1]  # Replace root with the last element\n",
    "            self.heap.pop()  # Remove the last element\n",
    "            self.heapify(0) \n",
    "            \n",
    "        return sorted_array  \n",
    "\n",
    "if __name__ == \"__main__\":\n",
    "    # Value of d (number of children per node)\n",
    "    d = 4  \n",
    "    # Create a d-ary heap instance\n",
    "    heap = DaryHeap(d)\n",
    "    # Create an array to be transformed into a heap\n",
    "    array = [10, 20, 5, 30, 40, 25, 15, 12, 14, 90, 10, 11]\n",
    "\n",
    "    # Build heap from the given array\n",
    "    heap.buildHeap(array)\n",
    "    print(\"Heap:\", heap.heap)  # Print the internal representation of the heap\n",
    "    # Sort the array using Heap Sort\n",
    "    sorted_array = heap.heapSort()\n",
    "    print(\"Sorted Array:\", sorted_array)  # Print the sorted array\n"
   ]
  }
 ],
 "metadata": {
  "kernelspec": {
   "display_name": "base",
   "language": "python",
   "name": "python3"
  },
  "language_info": {
   "codemirror_mode": {
    "name": "ipython",
    "version": 3
   },
   "file_extension": ".py",
   "mimetype": "text/x-python",
   "name": "python",
   "nbconvert_exporter": "python",
   "pygments_lexer": "ipython3",
   "version": "3.12.4"
  }
 },
 "nbformat": 4,
 "nbformat_minor": 2
}
